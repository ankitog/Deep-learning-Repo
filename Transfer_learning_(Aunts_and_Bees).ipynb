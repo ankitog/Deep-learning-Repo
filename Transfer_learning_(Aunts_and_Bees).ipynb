{
  "nbformat": 4,
  "nbformat_minor": 0,
  "metadata": {
    "colab": {
      "name": "Transfer learning- (Aunts and Bees).ipynb",
      "provenance": [],
      "collapsed_sections": [],
      "toc_visible": true,
      "mount_file_id": "1OiN8eIldEeGxfn4XZuV-oepsXp9aPvL6",
      "authorship_tag": "ABX9TyNwsxzlP/VCulBdVFtwBdAs",
      "include_colab_link": true
    },
    "kernelspec": {
      "name": "python3",
      "display_name": "Python 3"
    },
    "accelerator": "GPU"
  },
  "cells": [
    {
      "cell_type": "markdown",
      "metadata": {
        "id": "view-in-github",
        "colab_type": "text"
      },
      "source": [
        "<a href=\"https://colab.research.google.com/github/ankitog/Deep-learning-Repo/blob/master/Transfer_learning_(Aunts_and_Bees).ipynb\" target=\"_parent\"><img src=\"https://colab.research.google.com/assets/colab-badge.svg\" alt=\"Open In Colab\"/></a>"
      ]
    },
    {
      "cell_type": "code",
      "metadata": {
        "id": "No-2CM8hkgBp",
        "colab_type": "code",
        "colab": {}
      },
      "source": [
        "!pip install -q kaggle"
      ],
      "execution_count": 0,
      "outputs": []
    },
    {
      "cell_type": "code",
      "metadata": {
        "id": "pnAom3iGmWn4",
        "colab_type": "code",
        "colab": {}
      },
      "source": [
        "!mkdir -p ~/.kaggle"
      ],
      "execution_count": 0,
      "outputs": []
    },
    {
      "cell_type": "code",
      "metadata": {
        "id": "Ruz3Lc8Rmaus",
        "colab_type": "code",
        "colab": {}
      },
      "source": [
        "!cp kaggle.json ~/.kaggle/"
      ],
      "execution_count": 0,
      "outputs": []
    },
    {
      "cell_type": "code",
      "metadata": {
        "id": "A9mJBvUWmuTL",
        "colab_type": "code",
        "outputId": "90cdeb4c-8564-4fe4-8090-61f4a4e8e829",
        "colab": {
          "base_uri": "https://localhost:8080/",
          "height": 34
        }
      },
      "source": [
        "!ls ~/.kaggle"
      ],
      "execution_count": 0,
      "outputs": [
        {
          "output_type": "stream",
          "text": [
            "kaggle.json\n"
          ],
          "name": "stdout"
        }
      ]
    },
    {
      "cell_type": "code",
      "metadata": {
        "id": "k8NyCXLqovEN",
        "colab_type": "code",
        "colab": {}
      },
      "source": [
        "!chmod 600 /root/.kaggle/kaggle.json  # set permission"
      ],
      "execution_count": 0,
      "outputs": []
    },
    {
      "cell_type": "code",
      "metadata": {
        "id": "PCMna6fhmzd1",
        "colab_type": "code",
        "outputId": "14209106-4cb5-435e-fdf4-1e07d39dccca",
        "colab": {
          "base_uri": "https://localhost:8080/",
          "height": 68
        }
      },
      "source": [
        "!kaggle datasets download -d ajayrana/hymenoptera-data -p /content/drive/My\\ Drive/Kaggle/auntsANDbees/"
      ],
      "execution_count": 0,
      "outputs": [
        {
          "output_type": "stream",
          "text": [
            "Downloading hymenoptera-data.zip to /content/drive/My Drive/Kaggle/auntsANDbees\n",
            " 84% 76.0M/90.2M [00:00<00:00, 155MB/s]\n",
            "100% 90.2M/90.2M [00:00<00:00, 154MB/s]\n"
          ],
          "name": "stdout"
        }
      ]
    },
    {
      "cell_type": "code",
      "metadata": {
        "id": "6YkGKaX4sllM",
        "colab_type": "code",
        "colab": {}
      },
      "source": [
        "import os\n",
        "os.chdir('/content/drive/My Drive/Kaggle/padhai-hindi-vowel')"
      ],
      "execution_count": 0,
      "outputs": []
    },
    {
      "cell_type": "code",
      "metadata": {
        "id": "hlJ0YtOuorL7",
        "colab_type": "code",
        "colab": {}
      },
      "source": [
        "from __future__ import print_function, division\n",
        "\n",
        "import torch\n",
        "import torch.nn as nn\n",
        "import torch.optim as optim\n",
        "from torch.optim import lr_scheduler\n",
        "import numpy as np\n",
        "import torchvision\n",
        "from torchvision import datasets, models, transforms\n",
        "import matplotlib.pyplot as plt\n",
        "import time\n",
        "import os\n",
        "import copy"
      ],
      "execution_count": 0,
      "outputs": []
    },
    {
      "cell_type": "code",
      "metadata": {
        "id": "Se2c-6CGqm4W",
        "colab_type": "code",
        "colab": {}
      },
      "source": [
        "# Data augmentation and normalization for training\n",
        "# Just normalization for validation\n",
        "data_transforms = {\n",
        "    'train': transforms.Compose([\n",
        "        transforms.RandomResizedCrop(224),\n",
        "        transforms.RandomHorizontalFlip(),\n",
        "        transforms.ToTensor(),\n",
        "        transforms.Normalize([0.485, 0.456, 0.406], [0.229, 0.224, 0.225])\n",
        "    ]),\n",
        "    'val': transforms.Compose([\n",
        "        transforms.Resize(256),\n",
        "        transforms.CenterCrop(224),\n",
        "        transforms.ToTensor(),\n",
        "        transforms.Normalize([0.485, 0.456, 0.406], [0.229, 0.224, 0.225])\n",
        "    ]),\n",
        "}\n"
      ],
      "execution_count": 0,
      "outputs": []
    },
    {
      "cell_type": "code",
      "metadata": {
        "id": "Nw-Kt8H8jsgP",
        "colab_type": "code",
        "colab": {}
      },
      "source": [
        "data_dir = '/content/drive/My Drive/Kaggle/auntsANDbees/hymenoptera_data'\n",
        "\n",
        "image_dataset = {x : datasets.ImageFolder(os.path.join(data_dir, x), transform= data_transforms[x] )  for x in ['train', 'val']}\n",
        "\n",
        "dataloaders = {x : torch.utils.data.DataLoader(image_dataset[x], batch_size =4, shuffle=True, num_workers=4) \n",
        "for x in ['train', 'val']}"
      ],
      "execution_count": 0,
      "outputs": []
    },
    {
      "cell_type": "code",
      "metadata": {
        "id": "WyW-UezCVYJu",
        "colab_type": "code",
        "colab": {}
      },
      "source": [
        "dataset_sizes = {x : len(image_dataset[x]) for x in ['train', 'val']}\n",
        "class_names = image_dataset['train'].classes\n",
        "device = torch.device(\"cuda:0\" if torch.cuda.is_available() else \"cpu\")"
      ],
      "execution_count": 0,
      "outputs": []
    },
    {
      "cell_type": "code",
      "metadata": {
        "id": "_VG5dcC8flXm",
        "colab_type": "code",
        "outputId": "4638aa87-771b-419f-8808-6bc6c08f325e",
        "colab": {
          "base_uri": "https://localhost:8080/",
          "height": 34
        }
      },
      "source": [
        "device"
      ],
      "execution_count": 0,
      "outputs": [
        {
          "output_type": "execute_result",
          "data": {
            "text/plain": [
              "device(type='cuda', index=0)"
            ]
          },
          "metadata": {
            "tags": []
          },
          "execution_count": 50
        }
      ]
    },
    {
      "cell_type": "code",
      "metadata": {
        "id": "z_yWzZeadzaU",
        "colab_type": "code",
        "outputId": "9c0474e4-a182-4c70-e0fe-3d448f760732",
        "colab": {
          "base_uri": "https://localhost:8080/",
          "height": 52
        }
      },
      "source": [
        "img, lbl = next(iter(dataloaders['train']))\n",
        "print(img.size())\n",
        "print(lbl.size())"
      ],
      "execution_count": 0,
      "outputs": [
        {
          "output_type": "stream",
          "text": [
            "torch.Size([4, 3, 224, 224])\n",
            "torch.Size([4])\n"
          ],
          "name": "stdout"
        }
      ]
    },
    {
      "cell_type": "code",
      "metadata": {
        "id": "Au-9uKwVmkNs",
        "colab_type": "code",
        "colab": {}
      },
      "source": [
        "def imshow(img):\n",
        "  img = np.transpose(img.numpy(), (1, 2, 0))\n",
        "  mean = np.array([0.485, 0.456, 0.406])\n",
        "  std = np.array([0.229, 0.224, 0.225])\n",
        "  img = std * img + mean\n",
        "  plt.imshow(img)"
      ],
      "execution_count": 0,
      "outputs": []
    },
    {
      "cell_type": "code",
      "metadata": {
        "id": "U2WwlZ7OoWS8",
        "colab_type": "code",
        "outputId": "6b64f157-ffe6-45a4-c4ec-f6b732e5f707",
        "colab": {
          "base_uri": "https://localhost:8080/",
          "height": 171
        }
      },
      "source": [
        "imshow(torchvision.utils.make_grid(img))\n",
        "print([class_names[lbl[i].item()] for i in range(4)])"
      ],
      "execution_count": 0,
      "outputs": [
        {
          "output_type": "stream",
          "text": [
            "Clipping input data to the valid range for imshow with RGB data ([0..1] for floats or [0..255] for integers).\n"
          ],
          "name": "stderr"
        },
        {
          "output_type": "stream",
          "text": [
            "['ants', 'ants', 'ants', 'bees']\n"
          ],
          "name": "stdout"
        },
        {
          "output_type": "display_data",
          "data": {
            "image/png": "[encoded data removed]",
            "text/plain": [
              "<Figure size 432x288 with 1 Axes>"
            ]
          },
          "metadata": {
            "tags": [],
            "needs_background": "light"
          }
        }
      ]
    },
    {
      "cell_type": "code",
      "metadata": {
        "id": "w-nZCq2s8YhT",
        "colab_type": "code",
        "colab": {}
      },
      "source": [
        "def evaluation(model, dataloader):\n",
        "  total, correct = 0, 0\n",
        "  with torch.no_grad():\n",
        "    for inputs, labels in dataloader:\n",
        "      inputs = inputs.to(device)\n",
        "      labels = labels.to(device)\n",
        "      outputs = model(inputs)\n",
        "      _, pred = torch.max(outputs, 1)\n",
        "      total += labels.size(0)\n",
        "      correct += torch.sum(pred == labels.data).item()\n",
        "  return 100 * correct/total"
      ],
      "execution_count": 0,
      "outputs": []
    },
    {
      "cell_type": "code",
      "metadata": {
        "id": "jFu85E1FEPyd",
        "colab_type": "code",
        "colab": {}
      },
      "source": [
        ""
      ],
      "execution_count": 0,
      "outputs": []
    },
    {
      "cell_type": "code",
      "metadata": {
        "id": "xFK6vXrW8YXs",
        "colab_type": "code",
        "colab": {}
      },
      "source": [
        "%%time\n",
        "max_epoch = 25\n",
        "for i in range(max_epoch):\n",
        "  for inputs, labels in dataloaders['train']:\n",
        "    inputs = inputs.to(device)\n",
        "    labels = labels.to(device)\n",
        "    outputs = model(inputs)\n",
        "    loss = criterion(outputs, labels)\n",
        "    loss.backward()\n",
        "    optimizer.step()\n",
        "  print('Epoch: {}/{}'.format(i, max_epoch -1))\n"
      ],
      "execution_count": 0,
      "outputs": []
    },
    {
      "cell_type": "code",
      "metadata": {
        "id": "9eBVsMwv8YNM",
        "colab_type": "code",
        "colab": {}
      },
      "source": [
        "print('Test acc: %0.2f, Train acc: %0.2f' % (evaluation(model, dataloaders['val']), evaluation(model, dataloaders['train'])))"
      ],
      "execution_count": 0,
      "outputs": []
    },
    {
      "cell_type": "code",
      "metadata": {
        "id": "BHTk6KY5r5os",
        "colab_type": "code",
        "colab": {}
      },
      "source": [
        "def train_model_prac(model, criterion, optimizer, scheduler, num_epochs = 25):\n",
        "  since = time.time()\n",
        "  best_model_wts = copy.deepcopy(model.state_dict())\n",
        "  best_acc = 0.0\n",
        "\n",
        "  for epoch in range(num_epochs):\n",
        "    print('Epoch {}/{}'.format(epoch, num_epochs - 1))\n",
        "    print('-' * 10)\n",
        "\n",
        "    for phase in ['train', 'val']:\n",
        "      if phase == 'train':\n",
        "        model.train()\n",
        "      else:\n",
        "        model.eval()\n",
        "\n",
        "      running_loss = 0.0\n",
        "      running_corrects = 0\n",
        "\n",
        "      for inputs, labels in dataloaders[phase]:\n",
        "        inputs = inputs.to(device)\n",
        "        labels = labels.to(device)\n",
        "\n",
        "        optimizer.zero_grad()\n",
        "\n",
        "        with torch.set_grad_enabled(phase == 'train'):\n",
        "          outputs = model(inputs)\n",
        "          loss = criterion(outputs, labels)\n",
        "          _, preds = torch.max(outputs, 1)\n",
        "\n",
        "          if phase == 'train':\n",
        "            loss.backward()\n",
        "            optimizer.step()\n",
        "\n",
        "        running_loss += loss.item() * inputs.size(0)\n",
        "        running_corrects += torch.sum(preds == labels.data)\n",
        "\n",
        "      if phase == 'train':\n",
        "          scheduler.step()\n",
        "\n",
        "      epoch_loss = running_loss / dataset_sizes[phase] \n",
        "      epoch_acc = running_corrects.double() / dataset_sizes[phase]\n",
        "\n",
        "      print('{} Loss: {:.4f} Acc: {:.4f}'.format(\n",
        "                phase, epoch_loss, epoch_acc))\n",
        "\n",
        "        # deep copy the model\n",
        "      if phase == 'val' and epoch_acc > best_acc:\n",
        "        best_acc = epoch_acc\n",
        "        best_model_wts = copy.deepcopy(model.state_dict())\n",
        "\n",
        "  time_elapsed = time.time() - since\n",
        "  print('Training complete in {:.0f}m {:.0f}s'.format(\n",
        "      time_elapsed // 60, time_elapsed % 60))\n",
        "  print('Best val Acc: {:4f}'.format(best_acc))\n",
        "\n",
        "    # load best model weights\n",
        "  model.load_state_dict(best_model_wts)\n",
        "  return model\n",
        "  \n"
      ],
      "execution_count": 0,
      "outputs": []
    },
    {
      "cell_type": "code",
      "metadata": {
        "id": "W4zWPl8_z0hU",
        "colab_type": "code",
        "colab": {}
      },
      "source": [
        "def visualize_model(model, num_images=6):\n",
        "    was_training = model.training\n",
        "    model.eval()\n",
        "    images_so_far = 0\n",
        "    fig = plt.figure()\n",
        "\n",
        "    with torch.no_grad():\n",
        "        for i, (inputs, labels) in enumerate(dataloaders['val']):\n",
        "            inputs = inputs.to(device)\n",
        "            labels = labels.to(device)\n",
        "\n",
        "            outputs = model(inputs)\n",
        "            _, preds = torch.max(outputs, 1)\n",
        "\n",
        "            for j in range(inputs.size()[0]):\n",
        "                images_so_far += 1\n",
        "                ax = plt.subplot(num_images//2, 2, images_so_far)\n",
        "                ax.axis('off')\n",
        "                ax.set_title('predicted: {}'.format(class_names[preds[j]]))\n",
        "                imshow(inputs.cpu().data[j])\n",
        "\n",
        "                if images_so_far == num_images:\n",
        "                    model.train(mode=was_training)\n",
        "                    return\n",
        "        model.train(mode=was_training)"
      ],
      "execution_count": 0,
      "outputs": []
    },
    {
      "cell_type": "markdown",
      "metadata": {
        "colab_type": "text",
        "id": "HMnm12IB5vp0"
      },
      "source": [
        "# **Resnet with batch normalization**"
      ]
    },
    {
      "cell_type": "code",
      "metadata": {
        "id": "iV6p66O60weS",
        "colab_type": "code",
        "outputId": "90596983-eae0-4700-b540-c9fba4ec3b88",
        "colab": {
          "base_uri": "https://localhost:8080/",
          "height": 52
        }
      },
      "source": [
        "model = models.resnet18(pretrained=True)\n",
        "\n",
        "for params in model.parameters():\n",
        "  params.requires_grad =  False\n",
        "\n",
        "num_ftrs = model.fc.in_features\n",
        "model.fc = nn.Linear(num_ftrs, 2)\n",
        "for params in model.parameters():\n",
        "  if params.requires_grad:\n",
        "    print(params.shape)\n",
        "\n",
        "model = model.to(device)\n",
        "criterion = nn.CrossEntropyLoss()\n",
        "optimizer = optim.SGD(model.parameters(), lr=0.001, momentum=0.9)\n",
        "\n",
        "# Decay LR by a factor of 0.1 every 7 epochs\n",
        "exp_lr_scheduler = lr_scheduler.StepLR(optimizer, step_size=7, gamma=0.1)"
      ],
      "execution_count": 0,
      "outputs": [
        {
          "output_type": "stream",
          "text": [
            "torch.Size([2, 512])\n",
            "torch.Size([2])\n"
          ],
          "name": "stdout"
        }
      ]
    },
    {
      "cell_type": "code",
      "metadata": {
        "id": "2Kwi2UDL0wi6",
        "colab_type": "code",
        "colab": {}
      },
      "source": [
        "model = train_model_prac(model, criterion, optimizer, exp_lr_scheduler,\n",
        "                       num_epochs=25)"
      ],
      "execution_count": 0,
      "outputs": []
    },
    {
      "cell_type": "code",
      "metadata": {
        "id": "ZmYv1QZSlipj",
        "colab_type": "code",
        "outputId": "e8779ed1-3aa0-4ad9-eb7a-c10083d3219e",
        "colab": {
          "base_uri": "https://localhost:8080/",
          "height": 34
        }
      },
      "source": [
        "print('Test acc: %0.2f, Train acc: %0.2f' % (evaluation(model, dataloaders['val']), evaluation(model, dataloaders['train'])))"
      ],
      "execution_count": 0,
      "outputs": [
        {
          "output_type": "stream",
          "text": [
            "Test acc: 94.77, Train acc: 95.08\n"
          ],
          "name": "stdout"
        }
      ]
    },
    {
      "cell_type": "markdown",
      "metadata": {
        "id": "TFykz1Aa5X6N",
        "colab_type": "text"
      },
      "source": [
        "# **VGG16 with batch normalization**"
      ]
    },
    {
      "cell_type": "code",
      "metadata": {
        "id": "Dv4WeJdWzy0y",
        "colab_type": "code",
        "outputId": "313034dc-5c8a-4d54-8098-b671b58138ee",
        "colab": {
          "base_uri": "https://localhost:8080/",
          "height": 52
        }
      },
      "source": [
        "model = models.vgg16_bn(pretrained=True)\n",
        "for params in model.parameters():\n",
        "  params.requires_grad = False\n",
        "\n",
        "num_ftrs = model.classifier[6].in_features\n",
        "model.classifier[6] = nn.Linear(num_ftrs, 2)\n",
        "\n",
        "for params in model.parameters():\n",
        "  if params.requires_grad:\n",
        "    print(params.shape)\n",
        "\n",
        "model = model.to(device)\n",
        "criterion = nn.CrossEntropyLoss()\n",
        "optimizer = optim.SGD(model.parameters(), lr=0.001, momentum=0.9)\n",
        "\n",
        "# Decay LR by a factor of 0.1 every 7 epochs\n",
        "exp_lr_scheduler = lr_scheduler.StepLR(optimizer, step_size=7, gamma=0.1)"
      ],
      "execution_count": 0,
      "outputs": [
        {
          "output_type": "stream",
          "text": [
            "torch.Size([2, 4096])\n",
            "torch.Size([2])\n"
          ],
          "name": "stdout"
        }
      ]
    },
    {
      "cell_type": "code",
      "metadata": {
        "id": "jgxLsCK80p71",
        "colab_type": "code",
        "outputId": "24bf38b3-eaf5-461d-f6b2-639da0a43d33",
        "colab": {
          "base_uri": "https://localhost:8080/",
          "height": 1000
        }
      },
      "source": [
        "model = train_model_prac(model, criterion, optimizer, exp_lr_scheduler,\n",
        "                       num_epochs=25)"
      ],
      "execution_count": 0,
      "outputs": [
        {
          "output_type": "stream",
          "text": [
            "Epoch 0/24\n",
            "----------\n",
            "train Loss: 0.5417 Acc: 0.7582\n",
            "val Loss: 0.3030 Acc: 0.9085\n",
            "Epoch 1/24\n",
            "----------\n",
            "train Loss: 0.3279 Acc: 0.8484\n",
            "val Loss: 0.1987 Acc: 0.9412\n",
            "Epoch 2/24\n",
            "----------\n",
            "train Loss: 0.3147 Acc: 0.8566\n",
            "val Loss: 0.1798 Acc: 0.9281\n",
            "Epoch 3/24\n",
            "----------\n",
            "train Loss: 0.4199 Acc: 0.8320\n",
            "val Loss: 0.2308 Acc: 0.9216\n",
            "Epoch 4/24\n",
            "----------\n",
            "train Loss: 0.3467 Acc: 0.8484\n",
            "val Loss: 0.3043 Acc: 0.9020\n",
            "Epoch 5/24\n",
            "----------\n",
            "train Loss: 0.2862 Acc: 0.8852\n",
            "val Loss: 0.2213 Acc: 0.9150\n",
            "Epoch 6/24\n",
            "----------\n",
            "train Loss: 0.2162 Acc: 0.8934\n",
            "val Loss: 0.2081 Acc: 0.9412\n",
            "Epoch 7/24\n",
            "----------\n",
            "train Loss: 0.2823 Acc: 0.8934\n",
            "val Loss: 0.1999 Acc: 0.9216\n",
            "Epoch 8/24\n",
            "----------\n",
            "train Loss: 0.2956 Acc: 0.8852\n",
            "val Loss: 0.1861 Acc: 0.9281\n",
            "Epoch 9/24\n",
            "----------\n",
            "train Loss: 0.1910 Acc: 0.9139\n",
            "val Loss: 0.2112 Acc: 0.9150\n",
            "Epoch 10/24\n",
            "----------\n",
            "train Loss: 0.2137 Acc: 0.9139\n",
            "val Loss: 0.1942 Acc: 0.9281\n",
            "Epoch 11/24\n",
            "----------\n",
            "train Loss: 0.2888 Acc: 0.8648\n",
            "val Loss: 0.2001 Acc: 0.9346\n",
            "Epoch 12/24\n",
            "----------\n",
            "train Loss: 0.2489 Acc: 0.9221\n",
            "val Loss: 0.1658 Acc: 0.9412\n",
            "Epoch 13/24\n",
            "----------\n",
            "train Loss: 0.2357 Acc: 0.9098\n",
            "val Loss: 0.2140 Acc: 0.9281\n",
            "Epoch 14/24\n",
            "----------\n",
            "train Loss: 0.3535 Acc: 0.8689\n",
            "val Loss: 0.2170 Acc: 0.9150\n",
            "Epoch 15/24\n",
            "----------\n",
            "train Loss: 0.2048 Acc: 0.9262\n",
            "val Loss: 0.1885 Acc: 0.9346\n",
            "Epoch 16/24\n",
            "----------\n",
            "train Loss: 0.2090 Acc: 0.9016\n",
            "val Loss: 0.2220 Acc: 0.9281\n",
            "Epoch 17/24\n",
            "----------\n",
            "train Loss: 0.3563 Acc: 0.8402\n",
            "val Loss: 0.1789 Acc: 0.9412\n",
            "Epoch 18/24\n",
            "----------\n",
            "train Loss: 0.2366 Acc: 0.8975\n",
            "val Loss: 0.2040 Acc: 0.9281\n",
            "Epoch 19/24\n",
            "----------\n",
            "train Loss: 0.2327 Acc: 0.8975\n",
            "val Loss: 0.2071 Acc: 0.9216\n",
            "Epoch 20/24\n",
            "----------\n",
            "train Loss: 0.2770 Acc: 0.8893\n",
            "val Loss: 0.2227 Acc: 0.9281\n",
            "Epoch 21/24\n",
            "----------\n",
            "train Loss: 0.2624 Acc: 0.8934\n",
            "val Loss: 0.1789 Acc: 0.9346\n",
            "Epoch 22/24\n",
            "----------\n",
            "train Loss: 0.2608 Acc: 0.9180\n",
            "val Loss: 0.1758 Acc: 0.9412\n",
            "Epoch 23/24\n",
            "----------\n",
            "train Loss: 0.2009 Acc: 0.9221\n",
            "val Loss: 0.2060 Acc: 0.9216\n",
            "Epoch 24/24\n",
            "----------\n",
            "train Loss: 0.2446 Acc: 0.9016\n",
            "val Loss: 0.1921 Acc: 0.9281\n",
            "Training complete in 4m 41s\n",
            "Best val Acc: 0.941176\n"
          ],
          "name": "stdout"
        }
      ]
    },
    {
      "cell_type": "code",
      "metadata": {
        "id": "Pp8O_G7d3lmN",
        "colab_type": "code",
        "outputId": "da902296-6b0b-44e8-b5ad-32462d40649a",
        "colab": {
          "base_uri": "https://localhost:8080/",
          "height": 34
        }
      },
      "source": [
        "print('Test acc: %0.2f, Train acc: %0.2f' % (evaluation(model, dataloaders['val']), evaluation(model, dataloaders['train'])))"
      ],
      "execution_count": 0,
      "outputs": [
        {
          "output_type": "stream",
          "text": [
            "Test acc: 94.12, Train acc: 93.85\n"
          ],
          "name": "stdout"
        }
      ]
    },
    {
      "cell_type": "code",
      "metadata": {
        "id": "3GkFxLoO6CSh",
        "colab_type": "code",
        "outputId": "5f0d61d5-86c8-40ae-92c0-7646477d441a",
        "colab": {
          "base_uri": "https://localhost:8080/",
          "height": 52
        }
      },
      "source": [
        "model = models.resnet50(pretrained=True)\n",
        "for params in model.parameters():\n",
        "  params.requires_grad = False\n",
        "\n",
        "num_ftrs = model.fc.in_features\n",
        "model.fc = nn.Linear(num_ftrs, 2)\n",
        "\n",
        "for params in model.parameters():\n",
        "  if params.requires_grad:\n",
        "    print(params.shape)\n",
        "\n",
        "model = model.to(device)\n",
        "criterion = nn.CrossEntropyLoss()\n",
        "optimizer = optim.SGD(model.parameters(), lr=0.001, momentum=0.9)\n",
        "\n",
        "# Decay LR by a factor of 0.1 every 7 epochs\n",
        "exp_lr_scheduler = lr_scheduler.StepLR(optimizer, step_size=7, gamma=0.1)"
      ],
      "execution_count": 0,
      "outputs": [
        {
          "output_type": "stream",
          "text": [
            "torch.Size([2, 2048])\n",
            "torch.Size([2])\n"
          ],
          "name": "stdout"
        }
      ]
    },
    {
      "cell_type": "code",
      "metadata": {
        "id": "i4LDRg6_6CO_",
        "colab_type": "code",
        "outputId": "aebec1f6-d292-41ba-d809-d99e884b0bff",
        "colab": {
          "base_uri": "https://localhost:8080/",
          "height": 1000
        }
      },
      "source": [
        "model = train_model_prac(model, criterion, optimizer, exp_lr_scheduler,\n",
        "                       num_epochs=25)"
      ],
      "execution_count": 0,
      "outputs": [
        {
          "output_type": "stream",
          "text": [
            "Epoch 0/24\n",
            "----------\n",
            "train Loss: 0.6080 Acc: 0.6598\n",
            "val Loss: 0.2068 Acc: 0.9412\n",
            "Epoch 1/24\n",
            "----------\n",
            "train Loss: 0.5426 Acc: 0.7500\n",
            "val Loss: 0.4156 Acc: 0.8301\n",
            "Epoch 2/24\n",
            "----------\n",
            "train Loss: 0.3843 Acc: 0.8197\n",
            "val Loss: 0.2177 Acc: 0.8954\n",
            "Epoch 3/24\n",
            "----------\n",
            "train Loss: 0.4320 Acc: 0.8074\n",
            "val Loss: 0.1372 Acc: 0.9542\n",
            "Epoch 4/24\n",
            "----------\n",
            "train Loss: 0.4110 Acc: 0.8402\n",
            "val Loss: 0.2745 Acc: 0.8889\n",
            "Epoch 5/24\n",
            "----------\n",
            "train Loss: 0.3785 Acc: 0.8361\n",
            "val Loss: 0.1476 Acc: 0.9477\n",
            "Epoch 6/24\n",
            "----------\n",
            "train Loss: 0.2961 Acc: 0.8730\n",
            "val Loss: 0.1580 Acc: 0.9281\n",
            "Epoch 7/24\n",
            "----------\n",
            "train Loss: 0.3486 Acc: 0.8402\n",
            "val Loss: 0.1275 Acc: 0.9542\n",
            "Epoch 8/24\n",
            "----------\n",
            "train Loss: 0.2977 Acc: 0.8811\n",
            "val Loss: 0.1408 Acc: 0.9412\n",
            "Epoch 9/24\n",
            "----------\n",
            "train Loss: 0.3666 Acc: 0.8238\n",
            "val Loss: 0.1453 Acc: 0.9412\n",
            "Epoch 10/24\n",
            "----------\n",
            "train Loss: 0.3722 Acc: 0.8361\n",
            "val Loss: 0.1639 Acc: 0.9216\n",
            "Epoch 11/24\n",
            "----------\n",
            "train Loss: 0.3969 Acc: 0.8238\n",
            "val Loss: 0.1618 Acc: 0.9216\n",
            "Epoch 12/24\n",
            "----------\n",
            "train Loss: 0.3205 Acc: 0.8525\n",
            "val Loss: 0.1599 Acc: 0.9281\n",
            "Epoch 13/24\n",
            "----------\n",
            "train Loss: 0.2960 Acc: 0.8730\n",
            "val Loss: 0.1808 Acc: 0.9216\n",
            "Epoch 14/24\n",
            "----------\n",
            "train Loss: 0.3380 Acc: 0.8279\n",
            "val Loss: 0.1797 Acc: 0.9216\n",
            "Epoch 15/24\n",
            "----------\n",
            "train Loss: 0.2990 Acc: 0.8689\n",
            "val Loss: 0.1443 Acc: 0.9477\n",
            "Epoch 16/24\n",
            "----------\n",
            "train Loss: 0.2698 Acc: 0.8852\n",
            "val Loss: 0.1576 Acc: 0.9346\n",
            "Epoch 17/24\n",
            "----------\n",
            "train Loss: 0.2231 Acc: 0.8934\n",
            "val Loss: 0.1384 Acc: 0.9542\n",
            "Epoch 18/24\n",
            "----------\n",
            "train Loss: 0.2926 Acc: 0.8525\n",
            "val Loss: 0.1640 Acc: 0.9281\n",
            "Epoch 19/24\n",
            "----------\n",
            "train Loss: 0.2897 Acc: 0.8934\n",
            "val Loss: 0.1709 Acc: 0.9150\n",
            "Epoch 20/24\n",
            "----------\n",
            "train Loss: 0.3526 Acc: 0.8279\n",
            "val Loss: 0.1693 Acc: 0.9412\n",
            "Epoch 21/24\n",
            "----------\n",
            "train Loss: 0.3682 Acc: 0.8320\n",
            "val Loss: 0.1643 Acc: 0.9085\n",
            "Epoch 22/24\n",
            "----------\n",
            "train Loss: 0.2973 Acc: 0.8689\n",
            "val Loss: 0.1363 Acc: 0.9477\n",
            "Epoch 23/24\n",
            "----------\n",
            "train Loss: 0.3102 Acc: 0.8566\n",
            "val Loss: 0.1598 Acc: 0.9281\n",
            "Epoch 24/24\n",
            "----------\n",
            "train Loss: 0.2766 Acc: 0.8852\n",
            "val Loss: 0.1588 Acc: 0.9216\n",
            "Training complete in 2m 27s\n",
            "Best val Acc: 0.954248\n"
          ],
          "name": "stdout"
        }
      ]
    },
    {
      "cell_type": "code",
      "metadata": {
        "id": "r7VUWGFr6Acr",
        "colab_type": "code",
        "outputId": "4f27291f-9995-4abd-f0f5-ad7c6a652dd2",
        "colab": {
          "base_uri": "https://localhost:8080/",
          "height": 34
        }
      },
      "source": [
        "print('Test acc: %0.2f, Train acc: %0.2f' % (evaluation(model, dataloaders['val']), evaluation(model, dataloaders['train'])))"
      ],
      "execution_count": 0,
      "outputs": [
        {
          "output_type": "stream",
          "text": [
            "Test acc: 95.42, Train acc: 97.13\n"
          ],
          "name": "stdout"
        }
      ]
    },
    {
      "cell_type": "code",
      "metadata": {
        "id": "V2b-zedW6AZM",
        "colab_type": "code",
        "colab": {}
      },
      "source": [
        "model.state_dict()"
      ],
      "execution_count": 0,
      "outputs": []
    },
    {
      "cell_type": "markdown",
      "metadata": {
        "id": "m6hmCt405_GA",
        "colab_type": "text"
      },
      "source": [
        ""
      ]
    },
    {
      "cell_type": "code",
      "metadata": {
        "id": "jveKlQVP0whC",
        "colab_type": "code",
        "colab": {}
      },
      "source": [
        ""
      ],
      "execution_count": 0,
      "outputs": []
    },
    {
      "cell_type": "code",
      "metadata": {
        "id": "moJs0ze4dSyj",
        "colab_type": "code",
        "outputId": "fffc2f2a-916e-4c53-dbc1-98bab868fca1",
        "colab": {
          "base_uri": "https://localhost:8080/",
          "height": 34
        }
      },
      "source": [
        "os.chdir(data_dir)\n",
        "os.getcwd()"
      ],
      "execution_count": 0,
      "outputs": [
        {
          "output_type": "execute_result",
          "data": {
            "text/plain": [
              "'/content/drive/My Drive/Kaggle/auntsANDbees/hymenoptera_data'"
            ]
          },
          "metadata": {
            "tags": []
          },
          "execution_count": 99
        }
      ]
    },
    {
      "cell_type": "code",
      "metadata": {
        "id": "ukhkk5ACDz9V",
        "colab_type": "code",
        "colab": {}
      },
      "source": [
        "torch.save(model.state_dict(), 'tensor.pt' )"
      ],
      "execution_count": 0,
      "outputs": []
    },
    {
      "cell_type": "code",
      "metadata": {
        "id": "Pkt6l2wTEsFL",
        "colab_type": "code",
        "colab": {}
      },
      "source": [
        "visualize_model(model_ft)"
      ],
      "execution_count": 0,
      "outputs": []
    },
    {
      "cell_type": "code",
      "metadata": {
        "id": "_Cr79q0dErqN",
        "colab_type": "code",
        "colab": {}
      },
      "source": [
        ""
      ],
      "execution_count": 0,
      "outputs": []
    }
  ]
}